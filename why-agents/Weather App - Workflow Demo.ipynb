{
 "cells": [
  {
   "cell_type": "markdown",
   "id": "56c870ef",
   "metadata": {},
   "source": [
    "## Installing Dependencies"
   ]
  },
  {
   "cell_type": "markdown",
   "id": "3472f371",
   "metadata": {},
   "source": [
    "!pip install openai"
   ]
  },
  {
   "cell_type": "raw",
   "id": "4d692b1f",
   "metadata": {
    "scrolled": false
   },
   "source": [
    "!pip install meteostat"
   ]
  },
  {
   "cell_type": "markdown",
   "id": "09751569",
   "metadata": {},
   "source": [
    "## Utility Functions and Configurations"
   ]
  },
  {
   "cell_type": "code",
   "execution_count": 1,
   "id": "5c39f787",
   "metadata": {
    "scrolled": true
   },
   "outputs": [
    {
     "name": "stderr",
     "output_type": "stream",
     "text": [
      "/Users/rishavchandravarma/anaconda3/lib/python3.11/site-packages/pandas/core/arrays/masked.py:60: UserWarning: Pandas requires version '1.3.6' or newer of 'bottleneck' (version '1.3.5' currently installed).\n",
      "  from pandas.core import (\n"
     ]
    }
   ],
   "source": [
    "from typing import Optional\n",
    "from datetime import datetime\n",
    "from meteostat import Point, Daily\n",
    "\n",
    "def get_avg_temperature(location: str, celsius: Optional[bool] = False) -> str:\n",
    "    \"\"\"\n",
    "    Get average temperature of today at given location.\n",
    "\n",
    "    Args:\n",
    "        location: the location\n",
    "        celsius: the temperature\n",
    "    \"\"\"\n",
    "    #print(location)\n",
    "    today = datetime.now().date()\n",
    "    start = datetime(today.year, today.month, today.day)\n",
    "    end = datetime(today.year, today.month, today.day)\n",
    "    \n",
    "    # Create Point for Bengaluru, India\n",
    "    location = Point(12.971599, 77.594566, 911.859)\n",
    "\n",
    "    # Get daily data for 2018\n",
    "    data = Daily(location, start, end)\n",
    "    data = data.fetch()\n",
    "    \n",
    "    return f\"The avg temperature of Bengaluru today is {data.iloc[0]['tavg']}\"\n",
    "\n",
    "\n",
    "def get_min_temperature(location: str, celsius: Optional[bool] = False) -> str:\n",
    "    \"\"\"\n",
    "    Get min temperature of today at given location.\n",
    "\n",
    "    Args:\n",
    "        location: the location\n",
    "        celsius: the temperature\n",
    "    \"\"\"\n",
    "    #print(location)\n",
    "    today = datetime.now().date()\n",
    "    start = datetime(today.year, today.month, today.day)\n",
    "    end = datetime(today.year, today.month, today.day)\n",
    "    \n",
    "    # Create Point for Bengaluru, India\n",
    "    location = Point(12.971599, 77.594566, 911.859)\n",
    "\n",
    "    # Get daily data for 2018\n",
    "    data = Daily(location, start, end)\n",
    "    data = data.fetch()\n",
    "    \n",
    "    return f\"The min temperature of Bengaluru today is {data.iloc[0]['tmin']}\"\n",
    "\n",
    "\n",
    "def get_max_temperature(location: str, celsius: Optional[bool] = False) -> str:\n",
    "    \"\"\"\n",
    "    Get max temperature of today at given location.\n",
    "\n",
    "    Args:\n",
    "        location: the location\n",
    "        celsius: the temperature\n",
    "    \"\"\"\n",
    "    #print(location)\n",
    "    today = datetime.now().date()\n",
    "    start = datetime(today.year, today.month, today.day)\n",
    "    end = datetime(today.year, today.month, today.day)\n",
    "    \n",
    "    # Create Point for Bengaluru, India\n",
    "    location = Point(12.971599, 77.594566, 911.859)\n",
    "\n",
    "    # Get daily data for 2018\n",
    "    data = Daily(location, start, end)\n",
    "    data = data.fetch()\n",
    "    \n",
    "    return f\"The max temperature of Bengaluru today is {data.iloc[0]['tmax']}\""
   ]
  },
  {
   "cell_type": "code",
   "execution_count": 2,
   "id": "c46a0afa",
   "metadata": {},
   "outputs": [],
   "source": [
    "import json\n",
    "import openai as op\n",
    "\n",
    "with open('keys.txt', 'r') as file:\n",
    "    fc = file.readlines()\n",
    "\n",
    "op.api_key=json.loads(fc[0])['open_ai']"
   ]
  },
  {
   "cell_type": "markdown",
   "id": "846f60d9",
   "metadata": {},
   "source": [
    "## Code Run Through\n",
    "\n",
    "Given that our helper functions are ready to find the weather of Bengaluru. \n",
    "Let's write the code to complete the workflow."
   ]
  },
  {
   "cell_type": "code",
   "execution_count": 3,
   "id": "7aae8789",
   "metadata": {},
   "outputs": [
    {
     "name": "stdout",
     "output_type": "stream",
     "text": [
      "Need to know the temperature of Bengaluru today ?, press 1 for average, press 2 for minimum, press 3 for maximum1\n",
      "The avg temperature of Bengaluru today is 20.5\n"
     ]
    }
   ],
   "source": [
    "# Objective - To make a function call based on user input.\n",
    "\n",
    "user_input = input(\"Need to know the temperature of Bengaluru today ?, press 1 for average, press 2 for minimum, press 3 for maximum\")\n",
    "\n",
    "try:\n",
    "    if int(user_input) == 1:\n",
    "        print(get_avg_temperature('Bengaluru'))\n",
    "    elif int(user_input) == 2:\n",
    "        print(get_min_temperature('Bengaluru'))\n",
    "    elif int(user_input) == 3:\n",
    "        print(get_max_temperature('Bengaluru'))\n",
    "    else:\n",
    "        print('Invalid Input, please choose between 1, 2 or 3.')\n",
    "except:\n",
    "    print('Invalid Input')"
   ]
  },
  {
   "cell_type": "code",
   "execution_count": 4,
   "id": "ec465eef",
   "metadata": {},
   "outputs": [
    {
     "name": "stdout",
     "output_type": "stream",
     "text": [
      "Enter the weather query for Bengaluru today.\n",
      "Maximum Temperature\n",
      "The max temperature of Bengaluru today is 26.4\n"
     ]
    }
   ],
   "source": [
    "# Objective - To make a function call understanding the user input.\n",
    "\n",
    "prompt = \"\"\"You are a smart agentic assistant that helps to understand user query and suggest which among available tools to be selected to fulfill the user query.\n",
    "\n",
    "If user_input asks for average temperature of today - tool_selection: average, \n",
    "If user_input asks for minimum temperature of today - tool_selection: minimum, \n",
    "If user_input asks for maximum temperature of today - tool_selection: maximum,\n",
    "If user_input doesn't much any of the above - output none.\n",
    "\n",
    "Make sure the city mentioned in the user query - city_mentioned: city_name, \n",
    "if none mentioned then - city_mentioned: none\n",
    "\n",
    "Generate the response in JSON format -\n",
    "{\n",
    "    \"tool_selection\": <Contains output of selection. [Let's think step by step],\n",
    "    \"city_mentioned\": <Contains name of the city mentioned in query> [Let's think step by step],\n",
    "}\n",
    "\n",
    "\"\"\"\n",
    "\n",
    "def gpt_output(user_input, prompt):\n",
    "    prompt = json.dumps(prompt)\n",
    "\n",
    "    # Chat completiaon messages.\n",
    "    messages = [{'role': 'system', 'content': prompt}]\n",
    "    messages.append({'role': 'user', 'content': f\"user_input: {user_input}\"})\n",
    "\n",
    "    response = op.ChatCompletion.create(\n",
    "                model = \"gpt-4o-mini\", # gpt-4-1106-preview\n",
    "                temperature = 0.1,\n",
    "                response_format ={\"type\": \"json_object\"},\n",
    "                messages = messages\n",
    "            )\n",
    "\n",
    "    output = json.loads(response.choices[0].message.content)\n",
    "\n",
    "    try:\n",
    "        if output['city_mentioned'].lower() == 'bengaluru' or output['city_mentioned']=='none':\n",
    "            if output['tool_selection'].lower() == 'average':\n",
    "                print(get_avg_temperature('Bengaluru'))\n",
    "            elif output['tool_selection'].lower() == 'minimum':\n",
    "                print(get_min_temperature('Bengaluru'))\n",
    "            elif output['tool_selection'].lower() == 'maximum':\n",
    "                print(get_max_temperature('Bengaluru'))\n",
    "            else:\n",
    "                print('Invalid Input, please follow the given guidelines.')\n",
    "        else:\n",
    "            print('System only answers in context of Bengaluru.')\n",
    "    except:\n",
    "        print('Invalid Input')\n",
    "        \n",
    "user_input = input(\"Enter the weather query for Bengaluru today.\\n\")\n",
    "gpt_output(user_input, prompt)"
   ]
  },
  {
   "cell_type": "code",
   "execution_count": 5,
   "id": "7e6af8b5",
   "metadata": {},
   "outputs": [
    {
     "name": "stdout",
     "output_type": "stream",
     "text": [
      "Enter the weather query for Bengaluru today.\n",
      "Give me minimum, maximum, average temperature\n",
      "Invalid Input, please follow the given guidelines.\n"
     ]
    }
   ],
   "source": [
    "user_input = input(\"Enter the weather query for Bengaluru today.\\n\")\n",
    "gpt_output(user_input, prompt)"
   ]
  },
  {
   "cell_type": "code",
   "execution_count": null,
   "id": "7e34ee2a",
   "metadata": {},
   "outputs": [],
   "source": []
  }
 ],
 "metadata": {
  "kernelspec": {
   "display_name": "Python 3 (ipykernel)",
   "language": "python",
   "name": "python3"
  },
  "language_info": {
   "codemirror_mode": {
    "name": "ipython",
    "version": 3
   },
   "file_extension": ".py",
   "mimetype": "text/x-python",
   "name": "python",
   "nbconvert_exporter": "python",
   "pygments_lexer": "ipython3",
   "version": "3.11.5"
  }
 },
 "nbformat": 4,
 "nbformat_minor": 5
}
